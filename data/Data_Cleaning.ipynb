{
 "cells": [
  {
   "cell_type": "code",
   "execution_count": 1,
   "id": "06c95334",
   "metadata": {},
   "outputs": [],
   "source": [
    "import pandas as pd\n",
    "import numpy as np\n",
    "import matplotlib.pyplot as plt\n",
    "import ast\n"
   ]
  },
  {
   "cell_type": "code",
   "execution_count": null,
   "id": "5693e765",
   "metadata": {},
   "outputs": [],
   "source": [
    "#convert our txt file data into csv file\n",
    "file = open(\"learning_summaries_data\", \"r\")\n",
    "lines = file.readlines()"
   ]
  },
  {
   "cell_type": "code",
   "execution_count": null,
   "id": "08f13988",
   "metadata": {},
   "outputs": [],
   "source": [
    "df = pd.DataFrame()\n",
    "for line in lines:\n",
    "    dic = ast.literal_eval(line)\n",
    "    df = pd.DataFrame(data = dic)\n",
    "    trail_id = dic.get('trial_id')\n",
    "    study_id = dic.get('parent_study_id')\n",
    "    path = './learning_summaries/'+trail_id+'_'+study_id+\".csv\"\n",
    "    df.to_csv(path)\n",
    "file.close()"
   ]
  },
  {
   "cell_type": "code",
   "execution_count": null,
   "id": "8786d0ee",
   "metadata": {},
   "outputs": [],
   "source": [
    "file = open(\"study_level_data\", \"r\")\n",
    "lines = file.readlines()"
   ]
  },
  {
   "cell_type": "code",
   "execution_count": null,
   "id": "6607d1fa",
   "metadata": {},
   "outputs": [],
   "source": [
    "study = []\n",
    "max_trials = []\n",
    "evalution_metric = []\n",
    "for i in range(len(lines)):\n",
    "    dic = ast.literal_eval(lines[i])\n",
    "    study.append(dic.get('study_id'))\n",
    "    max_trials.append(dic.get('max_trials'))\n",
    "    evalution_metric.append(dic.get('evalution_metric'))\n",
    "file.close()"
   ]
  },
  {
   "cell_type": "code",
   "execution_count": null,
   "id": "5919c68b",
   "metadata": {},
   "outputs": [],
   "source": [
    "df = pd.DataFrame({'study_id': study, 'max_trials': max_trials, 'evalution_metric': evalution_metric})\n",
    "df.to_csv('study_level_data.csv')"
   ]
  },
  {
   "cell_type": "code",
   "execution_count": null,
   "id": "a72d0ace",
   "metadata": {},
   "outputs": [],
   "source": [
    "file = open(\"hyperparams_data\", \"r\")\n",
    "lines = file.readlines()\n",
    "hyperparameters = []\n",
    "trial_id = []\n",
    "parent_study_id = []\n",
    "for i in range(len(lines)):\n",
    "    dic = ast.literal_eval(lines[i])\n",
    "    hyperparameters.append(dic.get('hyperparameters'))\n",
    "    trial_id.append(dic.get('trial_id'))\n",
    "    parent_study_id.append(dic.get('parent_study_id'))\n",
    "file.close()"
   ]
  },
  {
   "cell_type": "code",
   "execution_count": null,
   "id": "4f5c0bb6",
   "metadata": {},
   "outputs": [],
   "source": [
    "df = pd.DataFrame({'hyperparameters': hyperparameters, 'trial_id': trial_id, 'parent_study_id': parent_study_id})\n",
    "df.to_csv('hyperparameter_data.csv')"
   ]
  }
 ],
 "metadata": {
  "kernelspec": {
   "display_name": "Python 3 (ipykernel)",
   "language": "python",
   "name": "python3"
  },
  "language_info": {
   "codemirror_mode": {
    "name": "ipython",
    "version": 3
   },
   "file_extension": ".py",
   "mimetype": "text/x-python",
   "name": "python",
   "nbconvert_exporter": "python",
   "pygments_lexer": "ipython3",
   "version": "3.7.7"
  }
 },
 "nbformat": 4,
 "nbformat_minor": 5
}
