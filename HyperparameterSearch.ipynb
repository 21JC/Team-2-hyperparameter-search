{
 "cells": [
  {
   "cell_type": "markdown",
   "metadata": {},
   "source": [
    "\n",
    "\n",
    "# Efficient Hyperparameter Search Service\n",
    "\n",
    "## Fall 2021 - Team 2\n"
   ]
  },
  {
   "cell_type": "markdown",
   "metadata": {},
   "source": [
    "Below is a hyperparameter search service which can be used through the \"Tune\" package we wrote, containing all functionality for creating a study, suggesting hyperparameters, keeping track of results, and providing best performance for a model."
   ]
  },
  {
   "cell_type": "code",
   "execution_count": null,
   "metadata": {},
   "outputs": [],
   "source": [
    "# import relevant packages\n",
    "import numpy as np\n",
    "from sklearn.datasets import make_classification\n",
    "from sklearn.linear_model import LogisticRegression\n",
    "from sklearn.model_selection import train_test_split\n",
    "import optuna\n",
    "import requests"
   ]
  },
  {
   "cell_type": "code",
   "execution_count": null,
   "metadata": {
    "jupyter": {
     "source_hidden": true
    }
   },
   "outputs": [],
   "source": [
    "# Tune package for efficient hyperparameter search\n",
    "\n",
    "class Tune:\n",
    "    study_name = None\n",
    "    search_space_C = None\n",
    "    search_space_solver = None\n",
    "    study = None\n",
    "    trial = None\n",
    "    objective = None\n",
    "    performance = None\n",
    "    stopping_criteria = None\n",
    "    C = None\n",
    "    solver = None\n",
    "    \n",
    "    def __init__(self, name):\n",
    "        self.study_name = name\n",
    "    \n",
    "    # initialize study\n",
    "    def create_study(self, C, solver):\n",
    "        self.search_space_C = C\n",
    "        self.search_space_solver = solver\n",
    "        self.study = optuna.create_study(direction=\"maximize\", study_name=self.study_name)\n",
    "        self.trial = self.study.ask()\n",
    "        self.C = self.trial.suggest_loguniform(\"C\", self.search_space_C[0], self.search_space_C[1])\n",
    "        self.solver = self.trial.suggest_categorical(\"solver\", set(self.search_space_solver))\n",
    "    \n",
    "    # get single update from study\n",
    "    def update_study(self, n=1, output=True):\n",
    "        self.get_performance()\n",
    "        self.trial = self.study.ask()\n",
    "        self.C = self.trial.suggest_loguniform(\"C\", self.search_space_C[0], self.search_space_C[1])\n",
    "        self.solver = self.trial.suggest_categorical(\"solver\", set(self.search_space_solver))\n",
    "        self.study.tell(self.trial, self.performance)\n",
    "    \n",
    "        # push data to update SQL table using Flask\n",
    "        study = {\"study-name\" : self.study_name,\n",
    "         \"search-space-hyperparameter\" : str(self.search_space_C),\n",
    "         \"search-space-solver\" : str(self.search_space_solver),\n",
    "         \"hyperparameter\" : self.C,\n",
    "         \"solver\" : self.solver,\n",
    "         \"stopping-criteria\" : self.stopping_criteria,\n",
    "         \"num-updates\" : n,\n",
    "         \"performance\" : self.performance}\n",
    "        res = requests.post('http://localhost:5000///updateDB', json=study)\n",
    "        \n",
    "        if output:\n",
    "            print(\"Hyperparameter:\", self.C)\n",
    "            print(\"Solver:\", self.solver)\n",
    "            print(\"Performance:\", self.performance)\n",
    "    \n",
    "    # run study multiple times (defined by user), and get best results\n",
    "    def update_study_repeat(self, n):\n",
    "        for _ in range(n):\n",
    "            self.update_study(n, False)\n",
    "            \n",
    "        # retrieve best study data from SQL table using Flask\n",
    "        study = {\"study-name\" : self.study_name}\n",
    "        res = requests.post('http://localhost:5000///getBestStudy', json=study).json()\n",
    "        \n",
    "        print(\"Best Results Across Study - \", self.study_name)\n",
    "        print(\"Best Hyperparameters:\", res['hyperparameter'])\n",
    "        print(\"Best Solver:\", res[\"solver\"])\n",
    "        print(\"Best Model Performance:\", res['performance'])\n",
    "    \n",
    "    # set objective function for study\n",
    "    def set_objective(self, objective):\n",
    "        self.objective = objective\n",
    "        print(\"Objective has been set.\")\n",
    "    \n",
    "    # retrieve current performance data using current recommended hyperparameter configuration\n",
    "    def get_performance(self):\n",
    "        self.performance = self.objective(self.C, self.solver)\n",
    "        return self.performance"
   ]
  },
  {
   "cell_type": "code",
   "execution_count": null,
   "metadata": {},
   "outputs": [],
   "source": [
    "# sample dataset #1 for demo\n",
    "X, y = make_classification(n_features=10)\n",
    "X_train, X_test, y_train, y_test = train_test_split(X, y)"
   ]
  },
  {
   "cell_type": "code",
   "execution_count": null,
   "metadata": {},
   "outputs": [],
   "source": [
    "# user defines objective function to evaluate\n",
    "def objective(C, solver):\n",
    "    clf = LogisticRegression(C=C, solver=solver)\n",
    "    clf.fit(X_train, y_train)\n",
    "    val_accuracy = clf.score(X_test, y_test)\n",
    "    return val_accuracy"
   ]
  },
  {
   "cell_type": "code",
   "execution_count": null,
   "metadata": {},
   "outputs": [],
   "source": [
    "# initialize Tune object for efficient hyperparameter search\n",
    "tune = Tune(\"dataX_test1\")"
   ]
  },
  {
   "cell_type": "code",
   "execution_count": null,
   "metadata": {},
   "outputs": [],
   "source": [
    "# create study, setting search spaces for hyperparameters\n",
    "tune.create_study([1e-7, 10.0], [\"lbfgs\", \"saga\", \"newton-cg\"])"
   ]
  },
  {
   "cell_type": "code",
   "execution_count": null,
   "metadata": {},
   "outputs": [],
   "source": [
    "# set user-defined objective within study\n",
    "tune.set_objective(objective)"
   ]
  },
  {
   "cell_type": "code",
   "execution_count": null,
   "metadata": {},
   "outputs": [],
   "source": [
    "# single update to study\n",
    "tune.update_study()"
   ]
  },
  {
   "cell_type": "code",
   "execution_count": null,
   "metadata": {},
   "outputs": [],
   "source": [
    "# repeated update to study over multiple trials, returning best results at end\n",
    "tune.update_study_repeat(50)"
   ]
  },
  {
   "cell_type": "code",
   "execution_count": null,
   "metadata": {},
   "outputs": [],
   "source": []
  }
 ],
 "metadata": {
  "kernelspec": {
   "display_name": "Python 3",
   "language": "python",
   "name": "python3"
  },
  "language_info": {
   "codemirror_mode": {
    "name": "ipython",
    "version": 3
   },
   "file_extension": ".py",
   "mimetype": "text/x-python",
   "name": "python",
   "nbconvert_exporter": "python",
   "pygments_lexer": "ipython3",
   "version": "3.8.3"
  }
 },
 "nbformat": 4,
 "nbformat_minor": 4
}
